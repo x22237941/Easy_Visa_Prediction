{
 "cells": [
  {
   "cell_type": "code",
   "execution_count": null,
   "id": "d62b04b3-fd16-4853-a336-e98fef2ea099",
   "metadata": {},
   "outputs": [],
   "source": []
  }
 ],
 "metadata": {
  "kernelspec": {
   "display_name": "",
   "name": ""
  },
  "language_info": {
   "name": ""
  }
 },
 "nbformat": 4,
 "nbformat_minor": 5
}
