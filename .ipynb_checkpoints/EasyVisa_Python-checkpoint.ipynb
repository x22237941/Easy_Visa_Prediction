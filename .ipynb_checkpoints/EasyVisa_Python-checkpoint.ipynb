{
 "cells": [
  {
   "cell_type": "markdown",
   "id": "927991c8-4afb-4f36-abd7-c8ff386c6d4e",
   "metadata": {},
   "source": [
    "# US Visa Approval Classification"
   ]
  },
  {
   "cell_type": "markdown",
   "id": "4e48d63f-91bf-4907-86dd-b3988bcfebaf",
   "metadata": {},
   "source": [
    "The main goal of the project is to check if Visa get approved or not based on the given dataset."
   ]
  },
  {
   "cell_type": "markdown",
   "id": "b849bd5b-6a71-4bcd-a30a-02db3cdaa117",
   "metadata": {},
   "source": [
    "This can be used to Recommend a suitable profile for the applicants for whom the visa should be certified or denied based on the certain criteria which influences the decision."
   ]
  },
  {
   "cell_type": "markdown",
   "id": "8b734753-2092-413f-a652-b78ddc908d6e",
   "metadata": {},
   "source": [
    "The data consists of 25480 Rows and 12 Columns"
   ]
  },
  {
   "cell_type": "markdown",
   "id": "30ce0d6e-9497-4085-83df-9f4d55f29938",
   "metadata": {},
   "source": [
    "# Importing required libraries"
   ]
  },
  {
   "cell_type": "code",
   "execution_count": 1,
   "id": "164d37c8-1c2b-4cb6-b1ed-c5580a39eaf2",
   "metadata": {},
   "outputs": [],
   "source": [
    "import pandas as pd\n",
    "import numpy as np\n",
    "import matplotlib.pyplot as plt\n",
    "import seaborn as sns\n",
    "import plotly.express as px\n",
    "import warnings\n",
    "\n",
    "warnings.filterwarnings(\"ignore\")\n",
    "\n",
    "%matplotlib inline"
   ]
  },
  {
   "cell_type": "markdown",
   "id": "02e1c44f-25b5-48e9-9cb8-0d817c1e381f",
   "metadata": {},
   "source": [
    "# Step 1: Preliminary Analysis"
   ]
  },
  {
   "cell_type": "code",
   "execution_count": 2,
   "id": "912d3fbb-43f7-4f10-92d9-49a8d01c8d1b",
   "metadata": {},
   "outputs": [],
   "source": [
    "df = pd.read_csv(r\"EasyVisa.csv\")"
   ]
  },
  {
   "cell_type": "code",
   "execution_count": 3,
   "id": "377860b8-a2c9-4761-af2c-5a5aaca2eed9",
   "metadata": {},
   "outputs": [
    {
     "data": {
      "text/html": [
       "<div>\n",
       "<style scoped>\n",
       "    .dataframe tbody tr th:only-of-type {\n",
       "        vertical-align: middle;\n",
       "    }\n",
       "\n",
       "    .dataframe tbody tr th {\n",
       "        vertical-align: top;\n",
       "    }\n",
       "\n",
       "    .dataframe thead th {\n",
       "        text-align: right;\n",
       "    }\n",
       "</style>\n",
       "<table border=\"1\" class=\"dataframe\">\n",
       "  <thead>\n",
       "    <tr style=\"text-align: right;\">\n",
       "      <th></th>\n",
       "      <th>case_id</th>\n",
       "      <th>continent</th>\n",
       "      <th>education_of_employee</th>\n",
       "      <th>has_job_experience</th>\n",
       "      <th>requires_job_training</th>\n",
       "      <th>no_of_employees</th>\n",
       "      <th>yr_of_estab</th>\n",
       "      <th>region_of_employment</th>\n",
       "      <th>prevailing_wage</th>\n",
       "      <th>unit_of_wage</th>\n",
       "      <th>full_time_position</th>\n",
       "      <th>case_status</th>\n",
       "    </tr>\n",
       "  </thead>\n",
       "  <tbody>\n",
       "    <tr>\n",
       "      <th>0</th>\n",
       "      <td>EZYV01</td>\n",
       "      <td>Asia</td>\n",
       "      <td>High School</td>\n",
       "      <td>N</td>\n",
       "      <td>N</td>\n",
       "      <td>14513</td>\n",
       "      <td>2007</td>\n",
       "      <td>West</td>\n",
       "      <td>592.2029</td>\n",
       "      <td>Hour</td>\n",
       "      <td>Y</td>\n",
       "      <td>Denied</td>\n",
       "    </tr>\n",
       "    <tr>\n",
       "      <th>1</th>\n",
       "      <td>EZYV02</td>\n",
       "      <td>Asia</td>\n",
       "      <td>Master's</td>\n",
       "      <td>Y</td>\n",
       "      <td>N</td>\n",
       "      <td>2412</td>\n",
       "      <td>2002</td>\n",
       "      <td>Northeast</td>\n",
       "      <td>83425.6500</td>\n",
       "      <td>Year</td>\n",
       "      <td>Y</td>\n",
       "      <td>Certified</td>\n",
       "    </tr>\n",
       "    <tr>\n",
       "      <th>2</th>\n",
       "      <td>EZYV03</td>\n",
       "      <td>Asia</td>\n",
       "      <td>Bachelor's</td>\n",
       "      <td>N</td>\n",
       "      <td>Y</td>\n",
       "      <td>44444</td>\n",
       "      <td>2008</td>\n",
       "      <td>West</td>\n",
       "      <td>122996.8600</td>\n",
       "      <td>Year</td>\n",
       "      <td>Y</td>\n",
       "      <td>Denied</td>\n",
       "    </tr>\n",
       "    <tr>\n",
       "      <th>3</th>\n",
       "      <td>EZYV04</td>\n",
       "      <td>Asia</td>\n",
       "      <td>Bachelor's</td>\n",
       "      <td>N</td>\n",
       "      <td>N</td>\n",
       "      <td>98</td>\n",
       "      <td>1897</td>\n",
       "      <td>West</td>\n",
       "      <td>83434.0300</td>\n",
       "      <td>Year</td>\n",
       "      <td>Y</td>\n",
       "      <td>Denied</td>\n",
       "    </tr>\n",
       "    <tr>\n",
       "      <th>4</th>\n",
       "      <td>EZYV05</td>\n",
       "      <td>Africa</td>\n",
       "      <td>Master's</td>\n",
       "      <td>Y</td>\n",
       "      <td>N</td>\n",
       "      <td>1082</td>\n",
       "      <td>2005</td>\n",
       "      <td>South</td>\n",
       "      <td>149907.3900</td>\n",
       "      <td>Year</td>\n",
       "      <td>Y</td>\n",
       "      <td>Certified</td>\n",
       "    </tr>\n",
       "  </tbody>\n",
       "</table>\n",
       "</div>"
      ],
      "text/plain": [
       "  case_id continent education_of_employee has_job_experience  \\\n",
       "0  EZYV01      Asia           High School                  N   \n",
       "1  EZYV02      Asia              Master's                  Y   \n",
       "2  EZYV03      Asia            Bachelor's                  N   \n",
       "3  EZYV04      Asia            Bachelor's                  N   \n",
       "4  EZYV05    Africa              Master's                  Y   \n",
       "\n",
       "  requires_job_training  no_of_employees  yr_of_estab region_of_employment  \\\n",
       "0                     N            14513         2007                 West   \n",
       "1                     N             2412         2002            Northeast   \n",
       "2                     Y            44444         2008                 West   \n",
       "3                     N               98         1897                 West   \n",
       "4                     N             1082         2005                South   \n",
       "\n",
       "   prevailing_wage unit_of_wage full_time_position case_status  \n",
       "0         592.2029         Hour                  Y      Denied  \n",
       "1       83425.6500         Year                  Y   Certified  \n",
       "2      122996.8600         Year                  Y      Denied  \n",
       "3       83434.0300         Year                  Y      Denied  \n",
       "4      149907.3900         Year                  Y   Certified  "
      ]
     },
     "execution_count": 3,
     "metadata": {},
     "output_type": "execute_result"
    }
   ],
   "source": [
    "df.head()"
   ]
  },
  {
   "cell_type": "markdown",
   "id": "dd617e0e-e0c1-4d1e-9b6a-58cf719a4a8a",
   "metadata": {},
   "source": [
    "## Number of independent and dependent variables:"
   ]
  },
  {
   "cell_type": "code",
   "execution_count": 4,
   "id": "54cd6a16-5611-49e6-8483-1eac02964a84",
   "metadata": {},
   "outputs": [
    {
     "name": "stdout",
     "output_type": "stream",
     "text": [
      "Number of independent variables: 11\n",
      "Number of dependent variables: 1\n"
     ]
    }
   ],
   "source": [
    "independent_vars = df.columns[:-1]\n",
    "dependent_var = df.columns[-1]\n",
    "print(\"Number of independent variables:\", len(independent_vars))\n",
    "print(\"Number of dependent variables:\", 1)"
   ]
  },
  {
   "cell_type": "markdown",
   "id": "a4651740-224b-4b57-b307-3bf40fa697b7",
   "metadata": {},
   "source": [
    "## Number of records:¶"
   ]
  },
  {
   "cell_type": "code",
   "execution_count": 5,
   "id": "1a343d6b-a6d8-47fc-9b6b-57798b5ef282",
   "metadata": {},
   "outputs": [
    {
     "name": "stdout",
     "output_type": "stream",
     "text": [
      "Number of records: 25480\n"
     ]
    }
   ],
   "source": [
    "print(\"Number of records:\", len(df))"
   ]
  },
  {
   "cell_type": "code",
   "execution_count": 6,
   "id": "367e71fd-7989-42d4-8f22-b7748336b954",
   "metadata": {},
   "outputs": [
    {
     "data": {
      "text/plain": [
       "(25480, 12)"
      ]
     },
     "execution_count": 6,
     "metadata": {},
     "output_type": "execute_result"
    }
   ],
   "source": [
    "df.shape"
   ]
  },
  {
   "cell_type": "markdown",
   "id": "6c56708f-de09-43b0-b6c9-416bfa1623f4",
   "metadata": {},
   "source": [
    "## Categorical Features"
   ]
  },
  {
   "cell_type": "code",
   "execution_count": 7,
   "id": "c0d8eca6-73a9-42fc-a912-0fa55424073f",
   "metadata": {},
   "outputs": [
    {
     "name": "stdout",
     "output_type": "stream",
     "text": [
      "['case_id', 'continent', 'education_of_employee', 'has_job_experience', 'requires_job_training', 'region_of_employment', 'unit_of_wage', 'full_time_position', 'case_status']\n",
      "Number of Categorical Features : 9\n"
     ]
    }
   ],
   "source": [
    "categorical_features=[feature for feature in df.columns if df[feature].dtypes=='O']\n",
    "print(categorical_features)\n",
    "print('Number of Categorical Features :', len(categorical_features))"
   ]
  },
  {
   "cell_type": "markdown",
   "id": "0fc8d793-4b14-47c0-8c0e-ddaba7f46f74",
   "metadata": {},
   "source": [
    "## Unique counts of categories in columns"
   ]
  },
  {
   "cell_type": "code",
   "execution_count": 8,
   "id": "13cee372-89b4-49b5-9095-30868b7b4bee",
   "metadata": {},
   "outputs": [
    {
     "name": "stdout",
     "output_type": "stream",
     "text": [
      "The feature is case_id and the number of categories are 25480\n",
      "The feature is continent and the number of categories are 6\n",
      "The feature is education_of_employee and the number of categories are 4\n",
      "The feature is has_job_experience and the number of categories are 2\n",
      "The feature is requires_job_training and the number of categories are 2\n",
      "The feature is region_of_employment and the number of categories are 5\n",
      "The feature is unit_of_wage and the number of categories are 4\n",
      "The feature is full_time_position and the number of categories are 2\n",
      "The feature is case_status and the number of categories are 2\n"
     ]
    }
   ],
   "source": [
    "for feature in categorical_features:\n",
    "    print(\"The feature is {} and the number of categories are {}\".format(feature,len(df[feature].unique())))"
   ]
  },
  {
   "cell_type": "markdown",
   "id": "67c152b5-847b-44a5-9c95-36ef45d050e0",
   "metadata": {},
   "source": [
    "## Numerical Features"
   ]
  },
  {
   "cell_type": "code",
   "execution_count": 9,
   "id": "2ebe06d7-3973-4744-90c6-5a6b9f407eb6",
   "metadata": {},
   "outputs": [
    {
     "name": "stdout",
     "output_type": "stream",
     "text": [
      "['no_of_employees', 'yr_of_estab', 'prevailing_wage']\n",
      "Num of Numerical Features : 3\n"
     ]
    }
   ],
   "source": [
    "numerical_features = [feature for feature in df.columns if df[feature].dtype in ['int64', 'float64']]\n",
    "print(numerical_features)\n",
    "print('Num of Numerical Features :', len(numerical_features))"
   ]
  },
  {
   "cell_type": "code",
   "execution_count": 10,
   "id": "17e4161f-3f1c-4437-8e1a-6e85954c4c92",
   "metadata": {},
   "outputs": [
    {
     "name": "stdout",
     "output_type": "stream",
     "text": [
      "Number of numerical variable 3\n"
     ]
    },
    {
     "data": {
      "text/html": [
       "<div>\n",
       "<style scoped>\n",
       "    .dataframe tbody tr th:only-of-type {\n",
       "        vertical-align: middle;\n",
       "    }\n",
       "\n",
       "    .dataframe tbody tr th {\n",
       "        vertical-align: top;\n",
       "    }\n",
       "\n",
       "    .dataframe thead th {\n",
       "        text-align: right;\n",
       "    }\n",
       "</style>\n",
       "<table border=\"1\" class=\"dataframe\">\n",
       "  <thead>\n",
       "    <tr style=\"text-align: right;\">\n",
       "      <th></th>\n",
       "      <th>no_of_employees</th>\n",
       "      <th>yr_of_estab</th>\n",
       "      <th>prevailing_wage</th>\n",
       "    </tr>\n",
       "  </thead>\n",
       "  <tbody>\n",
       "    <tr>\n",
       "      <th>0</th>\n",
       "      <td>14513</td>\n",
       "      <td>2007</td>\n",
       "      <td>592.2029</td>\n",
       "    </tr>\n",
       "    <tr>\n",
       "      <th>1</th>\n",
       "      <td>2412</td>\n",
       "      <td>2002</td>\n",
       "      <td>83425.6500</td>\n",
       "    </tr>\n",
       "    <tr>\n",
       "      <th>2</th>\n",
       "      <td>44444</td>\n",
       "      <td>2008</td>\n",
       "      <td>122996.8600</td>\n",
       "    </tr>\n",
       "    <tr>\n",
       "      <th>3</th>\n",
       "      <td>98</td>\n",
       "      <td>1897</td>\n",
       "      <td>83434.0300</td>\n",
       "    </tr>\n",
       "    <tr>\n",
       "      <th>4</th>\n",
       "      <td>1082</td>\n",
       "      <td>2005</td>\n",
       "      <td>149907.3900</td>\n",
       "    </tr>\n",
       "  </tbody>\n",
       "</table>\n",
       "</div>"
      ],
      "text/plain": [
       "   no_of_employees  yr_of_estab  prevailing_wage\n",
       "0            14513         2007         592.2029\n",
       "1             2412         2002       83425.6500\n",
       "2            44444         2008      122996.8600\n",
       "3               98         1897       83434.0300\n",
       "4             1082         2005      149907.3900"
      ]
     },
     "execution_count": 10,
     "metadata": {},
     "output_type": "execute_result"
    }
   ],
   "source": [
    "numerical_features=[feature for feature in df.columns if df[feature].dtypes!='O']\n",
    "print(\"Number of numerical variable\",len(numerical_features))\n",
    "df[numerical_features].head()"
   ]
  },
  {
   "cell_type": "markdown",
   "id": "ef9aeedd-0986-4d57-95bf-dd1d7b353211",
   "metadata": {},
   "source": [
    "## Binary Features"
   ]
  },
  {
   "cell_type": "code",
   "execution_count": 11,
   "id": "7a6b588d-68d2-4b3f-a381-9223b21c5c43",
   "metadata": {},
   "outputs": [
    {
     "name": "stdout",
     "output_type": "stream",
     "text": [
      "has_job_experience might be binary\n",
      "requires_job_training might be binary\n",
      "full_time_position might be binary\n",
      "case_status might be binary\n"
     ]
    }
   ],
   "source": [
    "for col in df.columns:\n",
    "    if df[col].nunique() == 2:\n",
    "        print(f\"{col} might be binary\")"
   ]
  },
  {
   "cell_type": "markdown",
   "id": "c958e293-694f-4b60-ab7a-f18c61292cec",
   "metadata": {},
   "source": [
    "## Discrete Features"
   ]
  },
  {
   "cell_type": "code",
   "execution_count": 12,
   "id": "d6e26cc9-eec8-4b17-b7e0-46d9b366576f",
   "metadata": {},
   "outputs": [
    {
     "name": "stdout",
     "output_type": "stream",
     "text": [
      "We have 0 discrete features : []\n",
      "Number of Discrete Features : 0\n"
     ]
    }
   ],
   "source": [
    "discrete_features=[feature for feature in numerical_features if len(df[feature].unique())<=25]\n",
    "print('We have {} discrete features : {}'.format(len(discrete_features), discrete_features))\n",
    "print('Number of Discrete Features :',len(discrete_features))"
   ]
  },
  {
   "cell_type": "markdown",
   "id": "b2d5afaf-e57e-4e89-84ef-36b2d213171d",
   "metadata": {},
   "source": [
    "## Continous Features"
   ]
  },
  {
   "cell_type": "code",
   "execution_count": 13,
   "id": "d54c7161-793c-44ce-8bd1-0ff5d5a071ff",
   "metadata": {},
   "outputs": [
    {
     "name": "stdout",
     "output_type": "stream",
     "text": [
      "\n",
      "We have 3 continuous_features : ['no_of_employees', 'yr_of_estab', 'prevailing_wage']\n",
      "Number of Continuous Features : 3\n"
     ]
    }
   ],
   "source": [
    "continuous_features=[feature for feature in numerical_features if len(df[feature].unique()) > 25]\n",
    "print('\\nWe have {} continuous_features : {}'.format(len(continuous_features), continuous_features))\n",
    "print('Number of Continuous Features :',len(continuous_features))"
   ]
  },
  {
   "cell_type": "markdown",
   "id": "86af058e-330c-4c81-8ecf-d7e8e34f00f1",
   "metadata": {},
   "source": [
    "## Data types of variables:"
   ]
  },
  {
   "cell_type": "code",
   "execution_count": 14,
   "id": "31aa3346-4505-4cd3-9a43-5b66f697c09b",
   "metadata": {},
   "outputs": [
    {
     "name": "stdout",
     "output_type": "stream",
     "text": [
      "Data types of variables:\n",
      "<class 'pandas.core.frame.DataFrame'>\n",
      "RangeIndex: 25480 entries, 0 to 25479\n",
      "Data columns (total 12 columns):\n",
      " #   Column                 Non-Null Count  Dtype  \n",
      "---  ------                 --------------  -----  \n",
      " 0   case_id                25480 non-null  object \n",
      " 1   continent              25480 non-null  object \n",
      " 2   education_of_employee  25480 non-null  object \n",
      " 3   has_job_experience     25480 non-null  object \n",
      " 4   requires_job_training  25480 non-null  object \n",
      " 5   no_of_employees        25480 non-null  int64  \n",
      " 6   yr_of_estab            25480 non-null  int64  \n",
      " 7   region_of_employment   25480 non-null  object \n",
      " 8   prevailing_wage        25480 non-null  float64\n",
      " 9   unit_of_wage           25480 non-null  object \n",
      " 10  full_time_position     25480 non-null  object \n",
      " 11  case_status            25480 non-null  object \n",
      "dtypes: float64(1), int64(2), object(9)\n",
      "memory usage: 2.3+ MB\n"
     ]
    }
   ],
   "source": [
    "print(\"Data types of variables:\")\n",
    "df.info()"
   ]
  },
  {
   "cell_type": "code",
   "execution_count": 15,
   "id": "b9244d99-62da-46ee-83d2-79092e3d49aa",
   "metadata": {},
   "outputs": [
    {
     "name": "stdout",
     "output_type": "stream",
     "text": [
      "case_id\n",
      "EZYV01       0.003925\n",
      "EZYV16995    0.003925\n",
      "EZYV16993    0.003925\n",
      "EZYV16992    0.003925\n",
      "EZYV16991    0.003925\n",
      "               ...   \n",
      "EZYV8492     0.003925\n",
      "EZYV8491     0.003925\n",
      "EZYV8490     0.003925\n",
      "EZYV8489     0.003925\n",
      "EZYV25480    0.003925\n",
      "Name: proportion, Length: 25480, dtype: float64\n",
      "---------------------------\n",
      "continent\n",
      "Asia             66.173469\n",
      "Europe           14.646782\n",
      "North America    12.919937\n",
      "South America     3.343799\n",
      "Africa            2.162480\n",
      "Oceania           0.753532\n",
      "Name: proportion, dtype: float64\n",
      "---------------------------\n",
      "education_of_employee\n",
      "Bachelor's     40.164835\n",
      "Master's       37.810047\n",
      "High School    13.422292\n",
      "Doctorate       8.602826\n",
      "Name: proportion, dtype: float64\n",
      "---------------------------\n",
      "has_job_experience\n",
      "Y    58.092622\n",
      "N    41.907378\n",
      "Name: proportion, dtype: float64\n",
      "---------------------------\n",
      "requires_job_training\n",
      "N    88.402669\n",
      "Y    11.597331\n",
      "Name: proportion, dtype: float64\n",
      "---------------------------\n",
      "region_of_employment\n",
      "Northeast    28.237834\n",
      "South        27.539246\n",
      "West         25.847724\n",
      "Midwest      16.903454\n",
      "Island        1.471743\n",
      "Name: proportion, dtype: float64\n",
      "---------------------------\n",
      "unit_of_wage\n",
      "Year     90.117739\n",
      "Hour      8.465463\n",
      "Week      1.067504\n",
      "Month     0.349294\n",
      "Name: proportion, dtype: float64\n",
      "---------------------------\n",
      "full_time_position\n",
      "Y    89.375981\n",
      "N    10.624019\n",
      "Name: proportion, dtype: float64\n",
      "---------------------------\n",
      "case_status\n",
      "Certified    66.789639\n",
      "Denied       33.210361\n",
      "Name: proportion, dtype: float64\n",
      "---------------------------\n"
     ]
    }
   ],
   "source": [
    "# proportion of count data on categorical columns\n",
    "for col in categorical_features:\n",
    "    print(df[col].value_counts(normalize=True) * 100)\n",
    "    print('---------------------------')"
   ]
  },
  {
   "cell_type": "markdown",
   "id": "f60d33c9-53d8-4fc8-bea0-64dad29edc75",
   "metadata": {},
   "source": [
    "**Insights**\n",
    " - `case_id` have unique vlaues for each column which can be dropped as it it of no importance\n",
    " - `continent` column is highly biased towards asia. hence we can combine other categories to form a single category.\n",
    " - `unit_of_wage` seems to be an important column as most of them are yearly contracts."
   ]
  },
  {
   "cell_type": "markdown",
   "id": "12d83b54-dfbf-43a7-90c4-bb2498ea9fa9",
   "metadata": {},
   "source": [
    "## Summary Statistics"
   ]
  },
  {
   "cell_type": "code",
   "execution_count": 16,
   "id": "22e2c96e-3554-403c-a1df-da4f27ff4e64",
   "metadata": {},
   "outputs": [
    {
     "data": {
      "text/html": [
       "<div>\n",
       "<style scoped>\n",
       "    .dataframe tbody tr th:only-of-type {\n",
       "        vertical-align: middle;\n",
       "    }\n",
       "\n",
       "    .dataframe tbody tr th {\n",
       "        vertical-align: top;\n",
       "    }\n",
       "\n",
       "    .dataframe thead th {\n",
       "        text-align: right;\n",
       "    }\n",
       "</style>\n",
       "<table border=\"1\" class=\"dataframe\">\n",
       "  <thead>\n",
       "    <tr style=\"text-align: right;\">\n",
       "      <th></th>\n",
       "      <th>no_of_employees</th>\n",
       "      <th>yr_of_estab</th>\n",
       "      <th>prevailing_wage</th>\n",
       "    </tr>\n",
       "  </thead>\n",
       "  <tbody>\n",
       "    <tr>\n",
       "      <th>count</th>\n",
       "      <td>25480.000000</td>\n",
       "      <td>25480.000000</td>\n",
       "      <td>25480.000000</td>\n",
       "    </tr>\n",
       "    <tr>\n",
       "      <th>mean</th>\n",
       "      <td>5667.043210</td>\n",
       "      <td>1979.409929</td>\n",
       "      <td>74455.814592</td>\n",
       "    </tr>\n",
       "    <tr>\n",
       "      <th>std</th>\n",
       "      <td>22877.928848</td>\n",
       "      <td>42.366929</td>\n",
       "      <td>52815.942327</td>\n",
       "    </tr>\n",
       "    <tr>\n",
       "      <th>min</th>\n",
       "      <td>-26.000000</td>\n",
       "      <td>1800.000000</td>\n",
       "      <td>2.136700</td>\n",
       "    </tr>\n",
       "    <tr>\n",
       "      <th>25%</th>\n",
       "      <td>1022.000000</td>\n",
       "      <td>1976.000000</td>\n",
       "      <td>34015.480000</td>\n",
       "    </tr>\n",
       "    <tr>\n",
       "      <th>50%</th>\n",
       "      <td>2109.000000</td>\n",
       "      <td>1997.000000</td>\n",
       "      <td>70308.210000</td>\n",
       "    </tr>\n",
       "    <tr>\n",
       "      <th>75%</th>\n",
       "      <td>3504.000000</td>\n",
       "      <td>2005.000000</td>\n",
       "      <td>107735.512500</td>\n",
       "    </tr>\n",
       "    <tr>\n",
       "      <th>max</th>\n",
       "      <td>602069.000000</td>\n",
       "      <td>2016.000000</td>\n",
       "      <td>319210.270000</td>\n",
       "    </tr>\n",
       "  </tbody>\n",
       "</table>\n",
       "</div>"
      ],
      "text/plain": [
       "       no_of_employees   yr_of_estab  prevailing_wage\n",
       "count     25480.000000  25480.000000     25480.000000\n",
       "mean       5667.043210   1979.409929     74455.814592\n",
       "std       22877.928848     42.366929     52815.942327\n",
       "min         -26.000000   1800.000000         2.136700\n",
       "25%        1022.000000   1976.000000     34015.480000\n",
       "50%        2109.000000   1997.000000     70308.210000\n",
       "75%        3504.000000   2005.000000    107735.512500\n",
       "max      602069.000000   2016.000000    319210.270000"
      ]
     },
     "execution_count": 16,
     "metadata": {},
     "output_type": "execute_result"
    }
   ],
   "source": [
    "df.describe()"
   ]
  },
  {
   "cell_type": "markdown",
   "id": "bca1606e-a869-412f-8d5f-68b7fa738da3",
   "metadata": {},
   "source": [
    "# Step 2: Data Cleaning"
   ]
  },
  {
   "cell_type": "markdown",
   "id": "c36e2bf9-4248-4497-93fe-e8fcc6f6418b",
   "metadata": {},
   "source": [
    "## Checking for Null Values"
   ]
  },
  {
   "cell_type": "code",
   "execution_count": 17,
   "id": "e1b12a55-61cf-438a-8a9e-50cdd81accb4",
   "metadata": {},
   "outputs": [
    {
     "data": {
      "text/plain": [
       "case_id                  0\n",
       "continent                0\n",
       "education_of_employee    0\n",
       "has_job_experience       0\n",
       "requires_job_training    0\n",
       "no_of_employees          0\n",
       "yr_of_estab              0\n",
       "region_of_employment     0\n",
       "prevailing_wage          0\n",
       "unit_of_wage             0\n",
       "full_time_position       0\n",
       "case_status              0\n",
       "dtype: int64"
      ]
     },
     "execution_count": 17,
     "metadata": {},
     "output_type": "execute_result"
    }
   ],
   "source": [
    "df.isnull().sum()"
   ]
  },
  {
   "cell_type": "markdown",
   "id": "441949b0-d766-4093-8dc0-f1533ad7c3c3",
   "metadata": {},
   "source": [
    "## Checking for unique values"
   ]
  },
  {
   "cell_type": "code",
   "execution_count": 18,
   "id": "b36af9ed-435f-437a-997f-f4a8c41ef1ed",
   "metadata": {},
   "outputs": [
    {
     "data": {
      "text/plain": [
       "case_id                  25480\n",
       "continent                    6\n",
       "education_of_employee        4\n",
       "has_job_experience           2\n",
       "requires_job_training        2\n",
       "no_of_employees           7105\n",
       "yr_of_estab                199\n",
       "region_of_employment         5\n",
       "prevailing_wage          25454\n",
       "unit_of_wage                 4\n",
       "full_time_position           2\n",
       "case_status                  2\n",
       "dtype: int64"
      ]
     },
     "execution_count": 18,
     "metadata": {},
     "output_type": "execute_result"
    }
   ],
   "source": [
    "df.nunique()"
   ]
  },
  {
   "cell_type": "markdown",
   "id": "f5ee53f4-8bd5-4868-9b98-e21511107ce5",
   "metadata": {},
   "source": [
    "## All Features"
   ]
  },
  {
   "cell_type": "code",
   "execution_count": 19,
   "id": "165a3832-110c-4fa8-8930-8b0482bef753",
   "metadata": {},
   "outputs": [
    {
     "data": {
      "text/plain": [
       "Index(['case_id', 'continent', 'education_of_employee', 'has_job_experience',\n",
       "       'requires_job_training', 'no_of_employees', 'yr_of_estab',\n",
       "       'region_of_employment', 'prevailing_wage', 'unit_of_wage',\n",
       "       'full_time_position', 'case_status'],\n",
       "      dtype='object')"
      ]
     },
     "execution_count": 19,
     "metadata": {},
     "output_type": "execute_result"
    }
   ],
   "source": [
    "df.columns"
   ]
  },
  {
   "cell_type": "markdown",
   "id": "d81f7280-482e-4fb9-87a5-407ea1a023ad",
   "metadata": {},
   "source": [
    "## Checking for low variance:"
   ]
  },
  {
   "cell_type": "code",
   "execution_count": 20,
   "id": "e8e90a2a-c9fe-45af-958c-6eeeffd90160",
   "metadata": {},
   "outputs": [
    {
     "name": "stdout",
     "output_type": "stream",
     "text": [
      "Columns with low variance (possible candidates for removal): []\n"
     ]
    }
   ],
   "source": [
    "# Checking for columns with a single unique value\n",
    "low_variance_cols = [col for col in df.columns if df[col].nunique() <= 1]\n",
    "print(\"Columns with low variance (possible candidates for removal):\", low_variance_cols)"
   ]
  },
  {
   "cell_type": "markdown",
   "id": "1cae9a16-33ab-4c83-90fb-b24f79a8f52b",
   "metadata": {},
   "source": [
    "## Checking & handling for duplicates"
   ]
  },
  {
   "cell_type": "code",
   "execution_count": 21,
   "id": "4f9dc820-a52b-4181-bbfd-b928492e0dcd",
   "metadata": {},
   "outputs": [
    {
     "name": "stdout",
     "output_type": "stream",
     "text": [
      "No duplicates found.\n"
     ]
    }
   ],
   "source": [
    "# Checking for duplicates\n",
    "if df.duplicated().any():\n",
    "    print(\"Duplicates found:\", df.duplicated().sum())\n",
    "    df = df.drop_duplicates()\n",
    "    print(\"Duplicates have been removed.\")\n",
    "else:\n",
    "    print(\"No duplicates found.\")"
   ]
  },
  {
   "cell_type": "markdown",
   "id": "6239252c-a566-4b89-869a-d0522a32e6e2",
   "metadata": {},
   "source": [
    "## Removing Case_Id"
   ]
  },
  {
   "cell_type": "code",
   "execution_count": 22,
   "id": "28a514f0-b1b5-4136-baf6-f83d5a5e25b5",
   "metadata": {},
   "outputs": [],
   "source": [
    "df.drop('case_id', inplace=True, axis=1)"
   ]
  },
  {
   "cell_type": "markdown",
   "id": "7e3bc48c-73f0-4802-ba20-ed36831d53c9",
   "metadata": {},
   "source": [
    "## Handling Missing Values"
   ]
  },
  {
   "cell_type": "code",
   "execution_count": 23,
   "id": "ac463d5d-9002-4ca2-8475-58e481b85e02",
   "metadata": {},
   "outputs": [
    {
     "name": "stdout",
     "output_type": "stream",
     "text": [
      "No missing values found.\n"
     ]
    }
   ],
   "source": [
    "# Checking for missing values in all columns\n",
    "missing_data = df.isnull().sum()\n",
    "missing_data = missing_data[missing_data > 0]\n",
    "\n",
    "if not missing_data.empty:\n",
    "    print(\"Missing values found in the following columns:\")\n",
    "    print(missing_data)\n",
    "    # Handling missing values (example using median imputation for numerical columns)\n",
    "    for column in df.columns:\n",
    "        if df[column].dtype == np.number:\n",
    "            df[column].fillna(df[column].median(), inplace=True)\n",
    "        else:\n",
    "            df[column].fillna(df[column].mode()[0], inplace=True)  # For categorical data, using mode\n",
    "    print(\"Missing values have been handled.\")\n",
    "else:\n",
    "    print(\"No missing values found.\")"
   ]
  },
  {
   "cell_type": "markdown",
   "id": "242476d4-64dd-4602-ae30-60b52d81561b",
   "metadata": {},
   "source": [
    "## Copy of Original Data"
   ]
  },
  {
   "cell_type": "code",
   "execution_count": 24,
   "id": "f93224fe-343a-4596-9142-b8eaf32f3c55",
   "metadata": {},
   "outputs": [
    {
     "data": {
      "text/html": [
       "<div>\n",
       "<style scoped>\n",
       "    .dataframe tbody tr th:only-of-type {\n",
       "        vertical-align: middle;\n",
       "    }\n",
       "\n",
       "    .dataframe tbody tr th {\n",
       "        vertical-align: top;\n",
       "    }\n",
       "\n",
       "    .dataframe thead th {\n",
       "        text-align: right;\n",
       "    }\n",
       "</style>\n",
       "<table border=\"1\" class=\"dataframe\">\n",
       "  <thead>\n",
       "    <tr style=\"text-align: right;\">\n",
       "      <th></th>\n",
       "      <th>continent</th>\n",
       "      <th>education_of_employee</th>\n",
       "      <th>has_job_experience</th>\n",
       "      <th>requires_job_training</th>\n",
       "      <th>no_of_employees</th>\n",
       "      <th>yr_of_estab</th>\n",
       "      <th>region_of_employment</th>\n",
       "      <th>prevailing_wage</th>\n",
       "      <th>unit_of_wage</th>\n",
       "      <th>full_time_position</th>\n",
       "      <th>case_status</th>\n",
       "    </tr>\n",
       "  </thead>\n",
       "  <tbody>\n",
       "    <tr>\n",
       "      <th>0</th>\n",
       "      <td>Asia</td>\n",
       "      <td>High School</td>\n",
       "      <td>N</td>\n",
       "      <td>N</td>\n",
       "      <td>14513</td>\n",
       "      <td>2007</td>\n",
       "      <td>West</td>\n",
       "      <td>592.2029</td>\n",
       "      <td>Hour</td>\n",
       "      <td>Y</td>\n",
       "      <td>Denied</td>\n",
       "    </tr>\n",
       "    <tr>\n",
       "      <th>1</th>\n",
       "      <td>Asia</td>\n",
       "      <td>Master's</td>\n",
       "      <td>Y</td>\n",
       "      <td>N</td>\n",
       "      <td>2412</td>\n",
       "      <td>2002</td>\n",
       "      <td>Northeast</td>\n",
       "      <td>83425.6500</td>\n",
       "      <td>Year</td>\n",
       "      <td>Y</td>\n",
       "      <td>Certified</td>\n",
       "    </tr>\n",
       "    <tr>\n",
       "      <th>2</th>\n",
       "      <td>Asia</td>\n",
       "      <td>Bachelor's</td>\n",
       "      <td>N</td>\n",
       "      <td>Y</td>\n",
       "      <td>44444</td>\n",
       "      <td>2008</td>\n",
       "      <td>West</td>\n",
       "      <td>122996.8600</td>\n",
       "      <td>Year</td>\n",
       "      <td>Y</td>\n",
       "      <td>Denied</td>\n",
       "    </tr>\n",
       "    <tr>\n",
       "      <th>3</th>\n",
       "      <td>Asia</td>\n",
       "      <td>Bachelor's</td>\n",
       "      <td>N</td>\n",
       "      <td>N</td>\n",
       "      <td>98</td>\n",
       "      <td>1897</td>\n",
       "      <td>West</td>\n",
       "      <td>83434.0300</td>\n",
       "      <td>Year</td>\n",
       "      <td>Y</td>\n",
       "      <td>Denied</td>\n",
       "    </tr>\n",
       "    <tr>\n",
       "      <th>4</th>\n",
       "      <td>Africa</td>\n",
       "      <td>Master's</td>\n",
       "      <td>Y</td>\n",
       "      <td>N</td>\n",
       "      <td>1082</td>\n",
       "      <td>2005</td>\n",
       "      <td>South</td>\n",
       "      <td>149907.3900</td>\n",
       "      <td>Year</td>\n",
       "      <td>Y</td>\n",
       "      <td>Certified</td>\n",
       "    </tr>\n",
       "  </tbody>\n",
       "</table>\n",
       "</div>"
      ],
      "text/plain": [
       "  continent education_of_employee has_job_experience requires_job_training  \\\n",
       "0      Asia           High School                  N                     N   \n",
       "1      Asia              Master's                  Y                     N   \n",
       "2      Asia            Bachelor's                  N                     Y   \n",
       "3      Asia            Bachelor's                  N                     N   \n",
       "4    Africa              Master's                  Y                     N   \n",
       "\n",
       "   no_of_employees  yr_of_estab region_of_employment  prevailing_wage  \\\n",
       "0            14513         2007                 West         592.2029   \n",
       "1             2412         2002            Northeast       83425.6500   \n",
       "2            44444         2008                 West      122996.8600   \n",
       "3               98         1897                 West       83434.0300   \n",
       "4             1082         2005                South      149907.3900   \n",
       "\n",
       "  unit_of_wage full_time_position case_status  \n",
       "0         Hour                  Y      Denied  \n",
       "1         Year                  Y   Certified  \n",
       "2         Year                  Y      Denied  \n",
       "3         Year                  Y      Denied  \n",
       "4         Year                  Y   Certified  "
      ]
     },
     "execution_count": 24,
     "metadata": {},
     "output_type": "execute_result"
    }
   ],
   "source": [
    "df1=df\n",
    "df1.head()"
   ]
  },
  {
   "cell_type": "markdown",
   "id": "9642a3e6-b1e6-4b13-b6d6-1d182597f1c3",
   "metadata": {},
   "source": [
    "# Step 3: Feature Engineering"
   ]
  },
  {
   "cell_type": "markdown",
   "id": "8371e8f5-f153-4da8-b3ad-968661683269",
   "metadata": {},
   "source": [
    "## Feature Extraction"
   ]
  },
  {
   "cell_type": "code",
   "execution_count": 25,
   "id": "ecd3e88b-89c6-459d-80d9-3a2b774c51e8",
   "metadata": {},
   "outputs": [
    {
     "name": "stdout",
     "output_type": "stream",
     "text": [
      "2024\n"
     ]
    }
   ],
   "source": [
    "# importing date class from datetime module\n",
    "from datetime import date\n",
    "  \n",
    "# creating the date object of today's date\n",
    "todays_date = date.today()\n",
    "current_year= todays_date.year\n",
    "print(current_year)"
   ]
  },
  {
   "cell_type": "code",
   "execution_count": 26,
   "id": "40ad46f2-2b92-444b-a4dd-59fb5534a9f3",
   "metadata": {},
   "outputs": [],
   "source": [
    "df1['company_age'] = current_year-df1['yr_of_estab']"
   ]
  },
  {
   "cell_type": "code",
   "execution_count": 27,
   "id": "346507af-7694-4452-bf09-2e2be4650e52",
   "metadata": {},
   "outputs": [],
   "source": [
    "df.drop('yr_of_estab', inplace=True, axis=1)"
   ]
  },
  {
   "cell_type": "code",
   "execution_count": 28,
   "id": "d70a8754-de00-4a3c-a5f8-6639eef0297b",
   "metadata": {},
   "outputs": [
    {
     "data": {
      "text/html": [
       "<div>\n",
       "<style scoped>\n",
       "    .dataframe tbody tr th:only-of-type {\n",
       "        vertical-align: middle;\n",
       "    }\n",
       "\n",
       "    .dataframe tbody tr th {\n",
       "        vertical-align: top;\n",
       "    }\n",
       "\n",
       "    .dataframe thead th {\n",
       "        text-align: right;\n",
       "    }\n",
       "</style>\n",
       "<table border=\"1\" class=\"dataframe\">\n",
       "  <thead>\n",
       "    <tr style=\"text-align: right;\">\n",
       "      <th></th>\n",
       "      <th>continent</th>\n",
       "      <th>education_of_employee</th>\n",
       "      <th>has_job_experience</th>\n",
       "      <th>requires_job_training</th>\n",
       "      <th>no_of_employees</th>\n",
       "      <th>region_of_employment</th>\n",
       "      <th>prevailing_wage</th>\n",
       "      <th>unit_of_wage</th>\n",
       "      <th>full_time_position</th>\n",
       "      <th>case_status</th>\n",
       "      <th>company_age</th>\n",
       "    </tr>\n",
       "  </thead>\n",
       "  <tbody>\n",
       "    <tr>\n",
       "      <th>0</th>\n",
       "      <td>Asia</td>\n",
       "      <td>High School</td>\n",
       "      <td>N</td>\n",
       "      <td>N</td>\n",
       "      <td>14513</td>\n",
       "      <td>West</td>\n",
       "      <td>592.2029</td>\n",
       "      <td>Hour</td>\n",
       "      <td>Y</td>\n",
       "      <td>Denied</td>\n",
       "      <td>17</td>\n",
       "    </tr>\n",
       "    <tr>\n",
       "      <th>1</th>\n",
       "      <td>Asia</td>\n",
       "      <td>Master's</td>\n",
       "      <td>Y</td>\n",
       "      <td>N</td>\n",
       "      <td>2412</td>\n",
       "      <td>Northeast</td>\n",
       "      <td>83425.6500</td>\n",
       "      <td>Year</td>\n",
       "      <td>Y</td>\n",
       "      <td>Certified</td>\n",
       "      <td>22</td>\n",
       "    </tr>\n",
       "    <tr>\n",
       "      <th>2</th>\n",
       "      <td>Asia</td>\n",
       "      <td>Bachelor's</td>\n",
       "      <td>N</td>\n",
       "      <td>Y</td>\n",
       "      <td>44444</td>\n",
       "      <td>West</td>\n",
       "      <td>122996.8600</td>\n",
       "      <td>Year</td>\n",
       "      <td>Y</td>\n",
       "      <td>Denied</td>\n",
       "      <td>16</td>\n",
       "    </tr>\n",
       "    <tr>\n",
       "      <th>3</th>\n",
       "      <td>Asia</td>\n",
       "      <td>Bachelor's</td>\n",
       "      <td>N</td>\n",
       "      <td>N</td>\n",
       "      <td>98</td>\n",
       "      <td>West</td>\n",
       "      <td>83434.0300</td>\n",
       "      <td>Year</td>\n",
       "      <td>Y</td>\n",
       "      <td>Denied</td>\n",
       "      <td>127</td>\n",
       "    </tr>\n",
       "    <tr>\n",
       "      <th>4</th>\n",
       "      <td>Africa</td>\n",
       "      <td>Master's</td>\n",
       "      <td>Y</td>\n",
       "      <td>N</td>\n",
       "      <td>1082</td>\n",
       "      <td>South</td>\n",
       "      <td>149907.3900</td>\n",
       "      <td>Year</td>\n",
       "      <td>Y</td>\n",
       "      <td>Certified</td>\n",
       "      <td>19</td>\n",
       "    </tr>\n",
       "  </tbody>\n",
       "</table>\n",
       "</div>"
      ],
      "text/plain": [
       "  continent education_of_employee has_job_experience requires_job_training  \\\n",
       "0      Asia           High School                  N                     N   \n",
       "1      Asia              Master's                  Y                     N   \n",
       "2      Asia            Bachelor's                  N                     Y   \n",
       "3      Asia            Bachelor's                  N                     N   \n",
       "4    Africa              Master's                  Y                     N   \n",
       "\n",
       "   no_of_employees region_of_employment  prevailing_wage unit_of_wage  \\\n",
       "0            14513                 West         592.2029         Hour   \n",
       "1             2412            Northeast       83425.6500         Year   \n",
       "2            44444                 West      122996.8600         Year   \n",
       "3               98                 West       83434.0300         Year   \n",
       "4             1082                South      149907.3900         Year   \n",
       "\n",
       "  full_time_position case_status  company_age  \n",
       "0                  Y      Denied           17  \n",
       "1                  Y   Certified           22  \n",
       "2                  Y      Denied           16  \n",
       "3                  Y      Denied          127  \n",
       "4                  Y   Certified           19  "
      ]
     },
     "execution_count": 28,
     "metadata": {},
     "output_type": "execute_result"
    }
   ],
   "source": [
    "df1.head()"
   ]
  },
  {
   "cell_type": "markdown",
   "id": "bfe99016-0595-4744-ac7b-b1decafdc5dc",
   "metadata": {},
   "source": [
    "# Step 4: Train & Test Split"
   ]
  },
  {
   "cell_type": "code",
   "execution_count": 29,
   "id": "c1bd08d3-f843-4762-a81b-0e3528fa94be",
   "metadata": {},
   "outputs": [],
   "source": [
    "X = df1.drop('case_status', axis=1)\n",
    "y = df1['case_status']"
   ]
  },
  {
   "cell_type": "markdown",
   "id": "000ecc6e-870a-4314-a019-7d5d5273a790",
   "metadata": {},
   "source": [
    "**Manual encoding target column**"
   ]
  },
  {
   "cell_type": "code",
   "execution_count": 30,
   "id": "38b9a98d-cd87-410c-91d5-6f1bd5c59223",
   "metadata": {},
   "outputs": [],
   "source": [
    "# If the target column has Denied it is encoded as 1 others as 0\n",
    "y= np.where(y=='Denied', 1,0)"
   ]
  },
  {
   "cell_type": "markdown",
   "id": "d9132abe-5841-424c-bb8f-ae6bb11ce9dd",
   "metadata": {},
   "source": [
    "## **Feature Encoding and Scaling**"
   ]
  },
  {
   "cell_type": "code",
   "execution_count": 31,
   "id": "e8417623-f506-4ff6-b4a1-ac7614c509d6",
   "metadata": {},
   "outputs": [],
   "source": [
    "num_features = list(X.select_dtypes(exclude=\"object\").columns)"
   ]
  },
  {
   "cell_type": "code",
   "execution_count": 32,
   "id": "738f53c7-26cf-48e7-9abc-d0d918277c3a",
   "metadata": {},
   "outputs": [
    {
     "data": {
      "text/plain": [
       "['no_of_employees', 'prevailing_wage', 'company_age']"
      ]
     },
     "execution_count": 32,
     "metadata": {},
     "output_type": "execute_result"
    }
   ],
   "source": [
    "num_features"
   ]
  },
  {
   "cell_type": "markdown",
   "id": "1d1b1776-c3f5-4330-8952-1f7fe821bc13",
   "metadata": {},
   "source": [
    "### **Preprocessing using Column Transformer**"
   ]
  },
  {
   "cell_type": "code",
   "execution_count": 33,
   "id": "97011edc-aa63-4625-93d6-25f1c5a296b6",
   "metadata": {},
   "outputs": [],
   "source": [
    "# Create Column Transformer with 3 types of transformers\n",
    "or_columns = ['has_job_experience','requires_job_training','full_time_position','education_of_employee']\n",
    "oh_columns = ['continent','unit_of_wage','region_of_employment']\n",
    "transform_columns= ['no_of_employees','company_age']"
   ]
  },
  {
   "cell_type": "code",
   "execution_count": 34,
   "id": "7fd85395-73c9-468b-be50-c6e4d19907d0",
   "metadata": {},
   "outputs": [],
   "source": [
    "from sklearn.preprocessing import OneHotEncoder, StandardScaler,OrdinalEncoder, PowerTransformer\n",
    "from sklearn.compose import ColumnTransformer \n",
    "from sklearn.pipeline import Pipeline"
   ]
  },
  {
   "cell_type": "code",
   "execution_count": 35,
   "id": "a73416e8-d713-44fa-8f57-303cc75456bd",
   "metadata": {},
   "outputs": [],
   "source": [
    "numeric_transformer = StandardScaler()\n",
    "oh_transformer = OneHotEncoder()\n",
    "ordinal_encoder = OrdinalEncoder()"
   ]
  },
  {
   "cell_type": "code",
   "execution_count": 36,
   "id": "683d6508-a95c-41d0-8a37-6d48cd7963f6",
   "metadata": {},
   "outputs": [],
   "source": [
    "transform_pipe = Pipeline(steps=[\n",
    "    ('transformer', PowerTransformer(method='yeo-johnson'))\n",
    "])"
   ]
  },
  {
   "cell_type": "code",
   "execution_count": 37,
   "id": "fa852c31-7e18-49a3-9c07-1f78e9d5ae68",
   "metadata": {},
   "outputs": [],
   "source": [
    "preprocessor = ColumnTransformer(\n",
    "    [\n",
    "        (\"OneHotEncoder\", oh_transformer, oh_columns),\n",
    "        (\"Ordinal_Encoder\", ordinal_encoder, or_columns),\n",
    "        (\"Transformer\", transform_pipe, transform_columns),\n",
    "        (\"StandardScaler\", numeric_transformer, num_features)\n",
    "    ]\n",
    ")"
   ]
  },
  {
   "cell_type": "code",
   "execution_count": 38,
   "id": "5332d11e-9a6e-4851-8bbe-817f5fcef9b3",
   "metadata": {},
   "outputs": [],
   "source": [
    "X = preprocessor.fit_transform(X)"
   ]
  },
  {
   "cell_type": "markdown",
   "id": "d5abd7b1-50da-4a0d-bf91-b6ff98a628c1",
   "metadata": {},
   "source": [
    "### **Resampling**"
   ]
  },
  {
   "cell_type": "code",
   "execution_count": 39,
   "id": "e9744867-3692-4539-829e-a9c2e1f09973",
   "metadata": {},
   "outputs": [
    {
     "name": "stdout",
     "output_type": "stream",
     "text": [
      "Requirement already satisfied: imbalanced-learn in c:\\users\\sana jalgaonkar\\appdata\\local\\programs\\python\\python312\\lib\\site-packages (0.12.2)\n",
      "Requirement already satisfied: numpy>=1.17.3 in c:\\users\\sana jalgaonkar\\appdata\\local\\programs\\python\\python312\\lib\\site-packages (from imbalanced-learn) (1.26.4)\n",
      "Requirement already satisfied: scipy>=1.5.0 in c:\\users\\sana jalgaonkar\\appdata\\local\\programs\\python\\python312\\lib\\site-packages (from imbalanced-learn) (1.13.0)\n",
      "Requirement already satisfied: scikit-learn>=1.0.2 in c:\\users\\sana jalgaonkar\\appdata\\local\\programs\\python\\python312\\lib\\site-packages (from imbalanced-learn) (1.4.1.post1)\n",
      "Requirement already satisfied: joblib>=1.1.1 in c:\\users\\sana jalgaonkar\\appdata\\local\\programs\\python\\python312\\lib\\site-packages (from imbalanced-learn) (1.3.2)\n",
      "Requirement already satisfied: threadpoolctl>=2.0.0 in c:\\users\\sana jalgaonkar\\appdata\\local\\programs\\python\\python312\\lib\\site-packages (from imbalanced-learn) (3.4.0)\n",
      "Note: you may need to restart the kernel to use updated packages.\n"
     ]
    }
   ],
   "source": [
    "pip install imbalanced-learn"
   ]
  },
  {
   "cell_type": "code",
   "execution_count": 40,
   "id": "b8b1e233-443f-4968-85ff-47ef25b015f2",
   "metadata": {},
   "outputs": [],
   "source": [
    "from imblearn.combine import SMOTETomek, SMOTEENN\n",
    "\n",
    "# Resampling the minority class. The strategy can be changed as required.\n",
    "smt = SMOTEENN(random_state=42,sampling_strategy='minority' )\n",
    "# Fit the model to generate the data.\n",
    "X_res, y_res = smt.fit_resample(X, y)"
   ]
  },
  {
   "cell_type": "code",
   "execution_count": 41,
   "id": "78fb833e-ae75-49c9-9b15-f714b9f2157b",
   "metadata": {},
   "outputs": [
    {
     "data": {
      "text/plain": [
       "((11933, 24), (5115, 24))"
      ]
     },
     "execution_count": 41,
     "metadata": {},
     "output_type": "execute_result"
    }
   ],
   "source": [
    "from sklearn.model_selection import  train_test_split\n",
    "# separate dataset into train and test\n",
    "X_train, X_test, y_train, y_test = train_test_split(X_res,y_res,test_size=0.3,random_state=42)\n",
    "X_train.shape, X_test.shape"
   ]
  },
  {
   "cell_type": "markdown",
   "id": "14b042ee-a020-4f55-8636-a59ff17733b4",
   "metadata": {},
   "source": [
    "## Print the number of records in the training and testing data"
   ]
  },
  {
   "cell_type": "code",
   "execution_count": 42,
   "id": "77254491-e85d-4bfb-8693-3bb14f737d63",
   "metadata": {},
   "outputs": [
    {
     "name": "stdout",
     "output_type": "stream",
     "text": [
      "Training records: 11933, Testing records: 5115\n"
     ]
    }
   ],
   "source": [
    "print(f\"Training records: {len(X_train)}, Testing records: {len(X_test)}\")"
   ]
  },
  {
   "cell_type": "markdown",
   "id": "80e9c705-ee39-4746-9d45-bf7b78198bda",
   "metadata": {},
   "source": [
    "## Save training data to CSV"
   ]
  },
  {
   "cell_type": "code",
   "execution_count": 43,
   "id": "921df432-fbc4-46dc-9b1e-86110152fca4",
   "metadata": {},
   "outputs": [
    {
     "name": "stdout",
     "output_type": "stream",
     "text": [
      "Training data has been saved to 'visa_training_data.csv'.\n"
     ]
    }
   ],
   "source": [
    "train_data = pd.concat([ pd.DataFrame(X_train),  pd.DataFrame(y_train)], axis=1)\n",
    "train_data.to_csv('visa_training_data.csv', index=False)\n",
    "print(\"Training data has been saved to 'visa_training_data.csv'.\")"
   ]
  },
  {
   "cell_type": "markdown",
   "id": "e272f94e-c37f-4c4e-b313-4a4ea8712ffa",
   "metadata": {},
   "source": [
    "## Save testing data to CSV"
   ]
  },
  {
   "cell_type": "code",
   "execution_count": 44,
   "id": "0d493fff-eb0a-496f-96aa-4c27890ad83c",
   "metadata": {},
   "outputs": [
    {
     "name": "stdout",
     "output_type": "stream",
     "text": [
      "Testing data has been saved to 'visa_testing_data.csv'.\n"
     ]
    }
   ],
   "source": [
    "test_data = pd.concat([pd.DataFrame(X_test), pd.DataFrame(y_test)], axis=1)\n",
    "test_data.to_csv('visa_testing_data.csv', index=False)\n",
    "print(\"Testing data has been saved to 'visa_testing_data.csv'.\")"
   ]
  },
  {
   "cell_type": "markdown",
   "id": "40a504bb-7baf-4f48-96c4-0ef92e057b2f",
   "metadata": {},
   "source": [
    "# Step 6: Logistic Regression using SkLearn"
   ]
  },
  {
   "cell_type": "code",
   "execution_count": 45,
   "id": "0cd964ed-c62e-4a17-963d-f4924ac7d03a",
   "metadata": {},
   "outputs": [],
   "source": [
    "from sklearn.linear_model import LogisticRegression"
   ]
  },
  {
   "cell_type": "code",
   "execution_count": 46,
   "id": "402ddfcd-2219-4d52-82fe-7698fe5ae24d",
   "metadata": {},
   "outputs": [],
   "source": [
    "from sklearn.metrics import accuracy_score, classification_report,ConfusionMatrixDisplay, \\\n",
    "                            precision_score, recall_score, f1_score, roc_auc_score,roc_curve "
   ]
  },
  {
   "cell_type": "code",
   "execution_count": 47,
   "id": "38489209-537f-4061-9343-3707c21eec76",
   "metadata": {},
   "outputs": [],
   "source": [
    "# Initializing the Logistic Regression model\n",
    "log_reg = LogisticRegression(max_iter=1000)"
   ]
  },
  {
   "cell_type": "code",
   "execution_count": 48,
   "id": "d15bf5e9-5bb0-4f97-a520-a539d72c0825",
   "metadata": {},
   "outputs": [],
   "source": [
    "lrmodel=log_reg.fit(X_train, y_train)"
   ]
  },
  {
   "cell_type": "code",
   "execution_count": 49,
   "id": "33e33720-baee-48e6-afd1-390a302357c5",
   "metadata": {},
   "outputs": [],
   "source": [
    "# Make predictions\n",
    "y_train_pred = lrmodel.predict(X_train)\n",
    "y_test_pred = lrmodel.predict(X_test)"
   ]
  },
  {
   "cell_type": "code",
   "execution_count": 50,
   "id": "50163c3d-06ec-46aa-bb98-8311957ced3d",
   "metadata": {},
   "outputs": [],
   "source": [
    "def evaluate_clf(true, predicted):\n",
    "    acc = accuracy_score(true, predicted) # Calculate Accuracy\n",
    "    f1 = f1_score(true, predicted) # Calculate F1-score\n",
    "    precision = precision_score(true, predicted) # Calculate Precision\n",
    "    recall = recall_score(true, predicted)  # Calculate Recall\n",
    "    roc_auc = roc_auc_score(true, predicted) #Calculate Roc\n",
    "    return acc, f1 , precision, recall, roc_auc"
   ]
  },
  {
   "cell_type": "code",
   "execution_count": 51,
   "id": "8b35113a-2367-46dd-a5f4-3882bb8cf47f",
   "metadata": {},
   "outputs": [],
   "source": [
    "# Training set performance\n",
    "model_train_accuracy, model_train_f1,model_train_precision,\\\n",
    "        model_train_recall,model_train_rocauc_score=evaluate_clf(y_train ,y_train_pred)"
   ]
  },
  {
   "cell_type": "code",
   "execution_count": 52,
   "id": "df42cb36-ea5a-4519-864e-3cd83a7f52c0",
   "metadata": {},
   "outputs": [
    {
     "name": "stdout",
     "output_type": "stream",
     "text": [
      "Model performance for Training set\n",
      "- Accuracy: 0.7379\n",
      "- F1 score: 0.7542\n",
      "- Precision: 0.7659\n",
      "- Recall: 0.7429\n",
      "- Roc Auc Score: 0.7374\n"
     ]
    }
   ],
   "source": [
    "print('Model performance for Training set')\n",
    "print(\"- Accuracy: {:.4f}\".format(model_train_accuracy))\n",
    "print('- F1 score: {:.4f}'.format(model_train_f1)) \n",
    "print('- Precision: {:.4f}'.format(model_train_precision))\n",
    "print('- Recall: {:.4f}'.format(model_train_recall))\n",
    "print('- Roc Auc Score: {:.4f}'.format(model_train_rocauc_score))"
   ]
  },
  {
   "cell_type": "code",
   "execution_count": 53,
   "id": "e0a11cf0-a3eb-4b1b-aa43-2c94b5161c32",
   "metadata": {},
   "outputs": [],
   "source": [
    "# Test set performance\n",
    "model_test_accuracy,model_test_f1,model_test_precision,\\\n",
    "        model_test_recall,model_test_rocauc_score=evaluate_clf(y_test, y_test_pred)"
   ]
  },
  {
   "cell_type": "code",
   "execution_count": 54,
   "id": "f140c158-06cc-4fa4-b352-22f11999b251",
   "metadata": {},
   "outputs": [
    {
     "name": "stdout",
     "output_type": "stream",
     "text": [
      "Model performance for Test set\n",
      "- Accuracy: 0.7398\n",
      "- F1 score: 0.7520\n",
      "- Precision: 0.7691\n",
      "- Recall: 0.7357\n",
      "- Roc Auc Score: 0.7401\n"
     ]
    }
   ],
   "source": [
    "print('Model performance for Test set')\n",
    "print('- Accuracy: {:.4f}'.format(model_test_accuracy))\n",
    "print('- F1 score: {:.4f}'.format(model_test_f1))\n",
    "print('- Precision: {:.4f}'.format(model_test_precision))\n",
    "print('- Recall: {:.4f}'.format(model_test_recall))\n",
    "print('- Roc Auc Score: {:.4f}'.format(model_test_rocauc_score))"
   ]
  },
  {
   "cell_type": "markdown",
   "id": "02bee07f-f2e9-41b1-8be0-a6a4dc6557a7",
   "metadata": {},
   "source": [
    "# Step 7: Logistics Using StatsModel"
   ]
  },
  {
   "cell_type": "code",
   "execution_count": 55,
   "id": "39af55d1-efff-4366-ab93-1973f4a40bcc",
   "metadata": {},
   "outputs": [],
   "source": [
    "import statsmodels.api as sm"
   ]
  },
  {
   "cell_type": "code",
   "execution_count": 56,
   "id": "19555e17-9c80-49b9-911d-26a58e8a6834",
   "metadata": {},
   "outputs": [],
   "source": [
    "# Add intercept manually for Statsmodels which does not add it by default\n",
    "X_train = sm.add_constant(X_train)"
   ]
  },
  {
   "cell_type": "code",
   "execution_count": 57,
   "id": "9276a737-9ec8-4b55-94fb-b05ba6947f1f",
   "metadata": {},
   "outputs": [
    {
     "name": "stdout",
     "output_type": "stream",
     "text": [
      "Optimization terminated successfully.\n",
      "         Current function value: 0.504951\n",
      "         Iterations 8\n"
     ]
    }
   ],
   "source": [
    "# Initialize and fit the logistic regression model using Statsmodels\n",
    "lrstats = sm.Logit(y_train, X_train)\n",
    "lrstats_results = lrstats.fit()"
   ]
  },
  {
   "cell_type": "code",
   "execution_count": 58,
   "id": "5e04b278-4799-48e4-97da-9c6103d116d1",
   "metadata": {},
   "outputs": [
    {
     "name": "stdout",
     "output_type": "stream",
     "text": [
      "                           Logit Regression Results                           \n",
      "==============================================================================\n",
      "Dep. Variable:                      y   No. Observations:                11933\n",
      "Model:                          Logit   Df Residuals:                    11908\n",
      "Method:                           MLE   Df Model:                           24\n",
      "Date:                Thu, 09 May 2024   Pseudo R-squ.:                  0.2679\n",
      "Time:                        03:40:23   Log-Likelihood:                -6025.6\n",
      "converged:                       True   LL-Null:                       -8230.5\n",
      "Covariance Type:            nonrobust   LLR p-value:                     0.000\n",
      "==============================================================================\n",
      "                 coef    std err          z      P>|z|      [0.025      0.975]\n",
      "------------------------------------------------------------------------------\n",
      "const          1.2256   1.56e+06   7.85e-07      1.000   -3.06e+06    3.06e+06\n",
      "x1            -0.1554   1.53e+06  -1.02e-07      1.000   -2.99e+06    2.99e+06\n",
      "x2             0.6129   1.53e+06   4.01e-07      1.000   -2.99e+06    2.99e+06\n",
      "x3            -1.0315   1.52e+06  -6.79e-07      1.000   -2.98e+06    2.98e+06\n",
      "x4             0.6635   1.52e+06   4.37e-07      1.000   -2.97e+06    2.97e+06\n",
      "x5             0.1950   1.52e+06   1.28e-07      1.000   -2.98e+06    2.98e+06\n",
      "x6             0.9411   1.53e+06   6.16e-07      1.000   -2.99e+06    2.99e+06\n",
      "x7             2.4041   1.29e+06   1.86e-06      1.000   -2.53e+06    2.53e+06\n",
      "x8            -0.2178   1.29e+06  -1.69e-07      1.000   -2.53e+06    2.53e+06\n",
      "x9            -0.3157   1.29e+06  -2.44e-07      1.000   -2.53e+06    2.53e+06\n",
      "x10           -0.6450   1.29e+06     -5e-07      1.000   -2.53e+06    2.53e+06\n",
      "x11            0.6440    2.1e+06   3.07e-07      1.000   -4.12e+06    4.12e+06\n",
      "x12           -0.6340    2.1e+06  -3.02e-07      1.000   -4.12e+06    4.12e+06\n",
      "x13            0.4769    2.1e+06   2.27e-07      1.000   -4.12e+06    4.12e+06\n",
      "x14           -0.0632    2.1e+06  -3.01e-08      1.000   -4.12e+06    4.12e+06\n",
      "x15            0.8019    2.1e+06   3.82e-07      1.000   -4.12e+06    4.12e+06\n",
      "x16           -1.6313      0.048    -33.837      0.000      -1.726      -1.537\n",
      "x17           -0.4128      0.076     -5.411      0.000      -0.562      -0.263\n",
      "x18            0.3149      0.076      4.139      0.000       0.166       0.464\n",
      "x19           -0.3047      0.018    -17.224      0.000      -0.339      -0.270\n",
      "x20           -0.0814      0.036     -2.257      0.024      -0.152      -0.011\n",
      "x21            0.1514      0.042      3.610      0.000       0.069       0.234\n",
      "x22            0.1087      0.041      2.627      0.009       0.028       0.190\n",
      "x23            0.0404      0.026      1.569      0.117      -0.010       0.091\n",
      "x24           -0.1365      0.043     -3.183      0.001      -0.221      -0.052\n",
      "==============================================================================\n"
     ]
    }
   ],
   "source": [
    "print(lrstats_results.summary())"
   ]
  },
  {
   "cell_type": "code",
   "execution_count": 59,
   "id": "1415b912-7dee-4a2a-bcfe-7ef14439891d",
   "metadata": {},
   "outputs": [],
   "source": [
    "# # Make predictions\n",
    "# X_test= sm.add_constant(X_test)\n",
    "# y_train_pred = lrstats_results.predict(X_train)\n",
    "# y_test_pred = lrstats_results.predict(X_test)"
   ]
  },
  {
   "cell_type": "code",
   "execution_count": 61,
   "id": "8aa8edef-dc68-4f17-91da-5993f613786a",
   "metadata": {},
   "outputs": [],
   "source": [
    "# The prediction will be in terms of probabilities for the presence of the target class\n",
    "X_test= sm.add_constant(X_test)\n",
    "y_test_pred = lrstats_results.predict(X_test)\n",
    "predictions = np.where(y_test_pred < 0.5, 0, 1)  # Converting probabilities to binary outcomes"
   ]
  },
  {
   "cell_type": "code",
   "execution_count": 62,
   "id": "32c6a3fb-a751-44ee-98c2-e3fa7eb328ce",
   "metadata": {},
   "outputs": [
    {
     "name": "stdout",
     "output_type": "stream",
     "text": [
      "Logistic Regression using Statsmodel Accuracy: 0.7397849462365591\n",
      "Classification Report of Logistic Regression using Statsmodel:\n",
      "               precision    recall  f1-score   support\n",
      "\n",
      "           0       0.71      0.74      0.73      2372\n",
      "           1       0.77      0.74      0.75      2743\n",
      "\n",
      "    accuracy                           0.74      5115\n",
      "   macro avg       0.74      0.74      0.74      5115\n",
      "weighted avg       0.74      0.74      0.74      5115\n",
      "\n"
     ]
    }
   ],
   "source": [
    "# Evaluating the model\n",
    "model_accuracy = accuracy_score(y_test, predictions)\n",
    "print(\"Logistic Regression using Statsmodel Accuracy:\", model_accuracy)\n",
    "print(\"Classification Report of Logistic Regression using Statsmodel:\\n\", classification_report(y_test, predictions))"
   ]
  },
  {
   "cell_type": "markdown",
   "id": "06751f20-871b-4353-8513-f1ad337cc90b",
   "metadata": {},
   "source": [
    "# Step 8: Random Forest Using SkLearn"
   ]
  },
  {
   "cell_type": "code",
   "execution_count": 63,
   "id": "f75dedcf-90ba-4db0-9b8f-0778727b776e",
   "metadata": {},
   "outputs": [],
   "source": [
    "from sklearn.ensemble import RandomForestClassifier"
   ]
  },
  {
   "cell_type": "code",
   "execution_count": 64,
   "id": "bc65ee13-3c59-4c6e-aca4-04006ef364c9",
   "metadata": {},
   "outputs": [],
   "source": [
    "rfc = RandomForestClassifier()"
   ]
  },
  {
   "cell_type": "code",
   "execution_count": 65,
   "id": "91d3cf09-f5fc-4045-ba3a-fb5489b2546c",
   "metadata": {},
   "outputs": [],
   "source": [
    "rfcmodel = rfc.fit(X_train, y_train)"
   ]
  },
  {
   "cell_type": "code",
   "execution_count": 66,
   "id": "d28e641b-95e8-4d03-9fd0-5070d93fce77",
   "metadata": {},
   "outputs": [],
   "source": [
    "# Make predictions\n",
    "y_train_pred = rfcmodel.predict(X_train)\n",
    "y_test_pred = rfcmodel.predict(X_test)"
   ]
  },
  {
   "cell_type": "code",
   "execution_count": 67,
   "id": "184a313a-7753-4c89-94b1-2d9adf7cb7fc",
   "metadata": {},
   "outputs": [],
   "source": [
    "# Training set performance\n",
    "rfcmodel_train_accuracy, rfcmodel_train_f1,rfcmodel_train_precision,\\\n",
    "        rfcmodel_train_recall,rfcmodel_train_rocauc_score=evaluate_clf(y_train ,y_train_pred)"
   ]
  },
  {
   "cell_type": "code",
   "execution_count": 68,
   "id": "5912b7c0-ecdf-46e4-9e8b-cdfb6e8b4df3",
   "metadata": {},
   "outputs": [
    {
     "name": "stdout",
     "output_type": "stream",
     "text": [
      "Model performance for Training set\n",
      "- Accuracy: 1.0000\n",
      "- F1 score: 1.0000\n",
      "- Precision: 1.0000\n",
      "- Recall: 1.0000\n",
      "- Roc Auc Score: 1.0000\n"
     ]
    }
   ],
   "source": [
    "print('Model performance for Training set')\n",
    "print(\"- Accuracy: {:.4f}\".format(rfcmodel_train_accuracy))\n",
    "print('- F1 score: {:.4f}'.format(rfcmodel_train_f1)) \n",
    "print('- Precision: {:.4f}'.format(rfcmodel_train_precision))\n",
    "print('- Recall: {:.4f}'.format(rfcmodel_train_recall))\n",
    "print('- Roc Auc Score: {:.4f}'.format(rfcmodel_train_rocauc_score))"
   ]
  },
  {
   "cell_type": "code",
   "execution_count": 69,
   "id": "ce5ee63a-dfa5-40c7-9fec-95ccdda74d64",
   "metadata": {},
   "outputs": [],
   "source": [
    "# Test set performance\n",
    "rfcmodel_test_accuracy,rfcmodel_test_f1,rfcmodel_test_precision,\\\n",
    "        rfcmodel_test_recall,rfcmodel_test_rocauc_score=evaluate_clf(y_test, y_test_pred)"
   ]
  },
  {
   "cell_type": "code",
   "execution_count": 70,
   "id": "08b175ab-7f51-4ecc-984c-494b1582447a",
   "metadata": {},
   "outputs": [
    {
     "name": "stdout",
     "output_type": "stream",
     "text": [
      "Model performance for Test set\n",
      "- Accuracy: 0.9419\n",
      "- F1 score: 0.9460\n",
      "- Precision: 0.9434\n",
      "- Recall: 0.9486\n",
      "- Roc Auc Score: 0.9414\n"
     ]
    }
   ],
   "source": [
    "print('Model performance for Test set')\n",
    "print('- Accuracy: {:.4f}'.format(rfcmodel_test_accuracy))\n",
    "print('- F1 score: {:.4f}'.format(rfcmodel_test_f1))\n",
    "print('- Precision: {:.4f}'.format(rfcmodel_test_precision))\n",
    "print('- Recall: {:.4f}'.format(rfcmodel_test_recall))\n",
    "print('- Roc Auc Score: {:.4f}'.format(rfcmodel_test_rocauc_score))"
   ]
  },
  {
   "cell_type": "code",
   "execution_count": 71,
   "id": "a4db360f-c0d0-4de6-b52f-6a503cd83603",
   "metadata": {},
   "outputs": [
    {
     "name": "stdout",
     "output_type": "stream",
     "text": [
      "Random Forests using sklearn Accuracy: 0.9419354838709677\n",
      "Classification Report of Random Forests using sklearn:\n",
      "               precision    recall  f1-score   support\n",
      "\n",
      "           0       0.94      0.93      0.94      2372\n",
      "           1       0.94      0.95      0.95      2743\n",
      "\n",
      "    accuracy                           0.94      5115\n",
      "   macro avg       0.94      0.94      0.94      5115\n",
      "weighted avg       0.94      0.94      0.94      5115\n",
      "\n"
     ]
    }
   ],
   "source": [
    "# Evaluating the model\n",
    "rfcaccuracy = accuracy_score(y_test, y_test_pred)\n",
    "print(\"Random Forests using sklearn Accuracy:\", rfcaccuracy)\n",
    "print(\"Classification Report of Random Forests using sklearn:\\n\", classification_report(y_test, y_test_pred))"
   ]
  },
  {
   "cell_type": "markdown",
   "id": "be926971-9c5b-4432-ba22-6c46ff5cc741",
   "metadata": {},
   "source": [
    "# Step 9: Random Forest Using XGBoost"
   ]
  },
  {
   "cell_type": "code",
   "execution_count": 72,
   "id": "cd9fa880-5de9-44d1-a8e5-b82e52b6f9b1",
   "metadata": {},
   "outputs": [],
   "source": [
    "from xgboost import XGBRFClassifier"
   ]
  },
  {
   "cell_type": "code",
   "execution_count": 73,
   "id": "7b9b38e4-cead-4923-81ae-beb37cd6e019",
   "metadata": {},
   "outputs": [],
   "source": [
    "# Initialize the XGBoost Random Forest Classifier\n",
    "xgbrf = XGBRFClassifier(n_estimators=100, use_label_encoder=False, eval_metric='logloss')"
   ]
  },
  {
   "cell_type": "code",
   "execution_count": 74,
   "id": "d240ba87-74a4-4bda-8af1-b9ed644b35f6",
   "metadata": {},
   "outputs": [],
   "source": [
    "# Fit the model\n",
    "model = xgbrf.fit(X_train, y_train)"
   ]
  },
  {
   "cell_type": "code",
   "execution_count": 75,
   "id": "f4441104-93c7-4d5b-bbdf-5904f0354a63",
   "metadata": {},
   "outputs": [],
   "source": [
    "# Predict on the training and test data\n",
    "prediction_train = model.predict(X_train)\n",
    "prediction_test = model.predict(X_test)"
   ]
  },
  {
   "cell_type": "code",
   "execution_count": 76,
   "id": "f97e3e01-08a9-4274-9105-72494b5379a8",
   "metadata": {},
   "outputs": [],
   "source": [
    "# Calculate accuracy on the training and test data\n",
    "accuracy_train = accuracy_score(y_train, prediction_train)\n",
    "accuracy_test = accuracy_score(y_test, prediction_test)"
   ]
  },
  {
   "cell_type": "code",
   "execution_count": 77,
   "id": "7f9e91d9-bb6c-4f68-b155-9a0c6bd83764",
   "metadata": {},
   "outputs": [
    {
     "name": "stdout",
     "output_type": "stream",
     "text": [
      "Accuracy on training data using XGBosst: 0.865\n",
      "Accuracy on test data using XGBoost: 0.865\n"
     ]
    }
   ],
   "source": [
    "# Output the accuracy\n",
    "print(\"Accuracy on training data using XGBosst: {:.3f}\".format(accuracy_train))\n",
    "print(\"Accuracy on test data using XGBoost: {:.3f}\".format(accuracy_test))"
   ]
  },
  {
   "cell_type": "code",
   "execution_count": 78,
   "id": "d91479bf-37cb-4971-a9bc-6de8d3e016cc",
   "metadata": {},
   "outputs": [
    {
     "name": "stdout",
     "output_type": "stream",
     "text": [
      "Random Forest Accuracy using XGBost: 0.8651026392961877\n",
      "Random Forest using XGBoost Classification Report:\n",
      "               precision    recall  f1-score   support\n",
      "\n",
      "           0       0.82      0.90      0.86      2372\n",
      "           1       0.91      0.83      0.87      2743\n",
      "\n",
      "    accuracy                           0.87      5115\n",
      "   macro avg       0.87      0.87      0.86      5115\n",
      "weighted avg       0.87      0.87      0.87      5115\n",
      "\n"
     ]
    }
   ],
   "source": [
    "# Evaluate Random Forest from XGBoost\n",
    "print(\"Random Forest Accuracy using XGBost:\", accuracy_test)\n",
    "print(\"Random Forest using XGBoost Classification Report:\\n\", classification_report(y_test, prediction_test))"
   ]
  },
  {
   "cell_type": "code",
   "execution_count": null,
   "id": "f5dffb8f-8f6d-4c6d-a57d-61b5f58be711",
   "metadata": {},
   "outputs": [],
   "source": []
  },
  {
   "cell_type": "code",
   "execution_count": null,
   "id": "a25bca0e-2d7d-4f5a-9c37-6b0f5bfbb250",
   "metadata": {},
   "outputs": [],
   "source": []
  },
  {
   "cell_type": "code",
   "execution_count": null,
   "id": "c3792ea9-9f8c-459a-a076-f68bf83afaee",
   "metadata": {},
   "outputs": [],
   "source": []
  }
 ],
 "metadata": {
  "kernelspec": {
   "display_name": "Python 3 (ipykernel)",
   "language": "python",
   "name": "python3"
  },
  "language_info": {
   "codemirror_mode": {
    "name": "ipython",
    "version": 3
   },
   "file_extension": ".py",
   "mimetype": "text/x-python",
   "name": "python",
   "nbconvert_exporter": "python",
   "pygments_lexer": "ipython3",
   "version": "3.12.2"
  }
 },
 "nbformat": 4,
 "nbformat_minor": 5
}
